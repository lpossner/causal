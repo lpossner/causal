{
 "cells": [
  {
   "cell_type": "code",
   "execution_count": 24,
   "metadata": {},
   "outputs": [],
   "source": [
    "import numpy as np\n",
    "import pandas as pd\n",
    "from dowhy import CausalModel"
   ]
  },
  {
   "cell_type": "code",
   "execution_count": 25,
   "metadata": {},
   "outputs": [],
   "source": [
    "N = 1000\n",
    "\n",
    "k1 = 0.5\n",
    "k2 = 1.5\n",
    "k3 = 0.7\n",
    "k4 = 2.0\n",
    "\n",
    "s = 0.3\n",
    "\n",
    "x1 = np.random.normal(loc=0, scale=s, size=N)\n",
    "x2 = k1 * x1 + np.random.normal(loc=0, scale=s, size=N)\n",
    "x3 = k2 * x2 + np.random.normal(loc=0, scale=s, size=N)\n",
    "x4 = k3 * x3 + k4 * x1 + np.random.normal(loc=0, scale=s, size=N)"
   ]
  },
  {
   "cell_type": "code",
   "execution_count": 26,
   "metadata": {},
   "outputs": [],
   "source": [
    "df = pd.DataFrame(data=np.stack([x1, x2, x3, x4], axis=1), columns=[\"X1\", \"X2\", \"X3\", \"X4\"])"
   ]
  },
  {
   "cell_type": "code",
   "execution_count": 27,
   "metadata": {},
   "outputs": [],
   "source": [
    "gml_graph = \"\"\"\n",
    "graph [\n",
    "    directed 1\n",
    "    \n",
    "    node [\n",
    "        id \"X1\"\n",
    "        label \"X1\"\n",
    "    ]\n",
    "    node [\n",
    "        id \"X2\"\n",
    "        label \"X2\"\n",
    "    ]\n",
    "    node [\n",
    "        id \"X3\"\n",
    "        label \"X3\"\n",
    "    ]\n",
    "    node [\n",
    "        id \"X4\"\n",
    "        label \"X4\"\n",
    "    ]\n",
    "\n",
    "    edge [\n",
    "        source \"X1\"\n",
    "        target \"X2\"\n",
    "    ]\n",
    "    edge [\n",
    "        source \"X2\"\n",
    "        target \"X3\"\n",
    "    ]\n",
    "    edge [\n",
    "        source \"X3\"\n",
    "        target \"X4\"\n",
    "    ]\n",
    "    edge [\n",
    "        source \"X1\"\n",
    "        target \"X4\"\n",
    "    ]\n",
    "]\n",
    "\"\"\""
   ]
  },
  {
   "cell_type": "code",
   "execution_count": 28,
   "metadata": {},
   "outputs": [],
   "source": [
    "model = CausalModel(\n",
    "    data=df,\n",
    "    treatment=\"X2\",\n",
    "    outcome=\"X4\",\n",
    "    graph=gml_graph\n",
    ")"
   ]
  },
  {
   "cell_type": "code",
   "execution_count": 29,
   "metadata": {},
   "outputs": [
    {
     "data": {
      "image/png": "[encoded data removed]",
      "text/plain": [
       "<Figure size 800x600 with 1 Axes>"
      ]
     },
     "metadata": {},
     "output_type": "display_data"
    }
   ],
   "source": [
    "model.view_model()"
   ]
  },
  {
   "cell_type": "code",
   "execution_count": 30,
   "metadata": {},
   "outputs": [
    {
     "name": "stdout",
     "output_type": "stream",
     "text": [
      "Estimand type: nonparametric-ate\n",
      "\n",
      "### Estimand : 1\n",
      "Estimand name: backdoor\n",
      "Estimand expression:\n",
      "  d            \n",
      "─────(E[X4|X1])\n",
      "d[X₂]          \n",
      "Estimand assumption 1, Unconfoundedness: If U→{X2} and U→X4 then P(X4|X2,X1,U) = P(X4|X2,X1)\n",
      "\n",
      "### Estimand : 2\n",
      "Estimand name: iv\n",
      "No such variable(s) found!\n",
      "\n",
      "### Estimand : 3\n",
      "Estimand name: frontdoor\n",
      "Estimand expression:\n",
      " ⎡  d         d        ⎤\n",
      "E⎢─────(X₄)⋅─────([X₃])⎥\n",
      " ⎣d[X₃]     d[X₂]      ⎦\n",
      "Estimand assumption 1, Full-mediation: X3 intercepts (blocks) all directed paths from X2 to X,4.\n",
      "Estimand assumption 2, First-stage-unconfoundedness: If U→{X2} and U→{X3} then P(X3|X2,U) = P(X3|X2)\n",
      "Estimand assumption 3, Second-stage-unconfoundedness: If U→{X3} and U→X4 then P(X4|X3, X2, U) = P(X4|X3, X2)\n",
      "\n"
     ]
    }
   ],
   "source": [
    "estimand = model.identify_effect()\n",
    "\n",
    "print(estimand)"
   ]
  },
  {
   "cell_type": "code",
   "execution_count": 31,
   "metadata": {},
   "outputs": [
    {
     "name": "stdout",
     "output_type": "stream",
     "text": [
      "two_stage_regression\n",
      "{'control_value': 0, 'treatment_value': 1, 'test_significance': None, 'evaluate_effect_strength': False, 'confidence_intervals': False, 'target_units': 'ate', 'effect_modifiers': [], 'first_stage_model': None, 'second_stage_model': None}\n",
      "{'control_value': 0, 'treatment_value': 1, 'test_significance': None, 'evaluate_effect_strength': False, 'confidence_intervals': False, 'target_units': 'ate', 'effect_modifiers': [], 'first_stage_model': None, 'second_stage_model': None}\n"
     ]
    },
    {
     "name": "stderr",
     "output_type": "stream",
     "text": [
      "/opt/homebrew/Caskroom/miniconda/base/envs/causal/lib/python3.12/site-packages/dowhy/causal_estimators/regression_estimator.py:59: FutureWarning: Series.__getitem__ treating keys as positions is deprecated. In a future version, integer keys will always be treated as labels (consistent with DataFrame behavior). To access a value by position, use `ser.iloc[pos]`\n",
      "  intercept_parameter = self.model.params[0]\n",
      "/opt/homebrew/Caskroom/miniconda/base/envs/causal/lib/python3.12/site-packages/dowhy/causal_estimators/regression_estimator.py:59: FutureWarning: Series.__getitem__ treating keys as positions is deprecated. In a future version, integer keys will always be treated as labels (consistent with DataFrame behavior). To access a value by position, use `ser.iloc[pos]`\n",
      "  intercept_parameter = self.model.params[0]\n"
     ]
    },
    {
     "data": {
      "image/png": "[encoded data removed]",
      "text/latex": [
       "$\\displaystyle 0.988600005273224$"
      ],
      "text/plain": [
       "np.float64(0.9886000052732242)"
      ]
     },
     "execution_count": 31,
     "metadata": {},
     "output_type": "execute_result"
    }
   ],
   "source": [
    "estimate = model.estimate_effect(\n",
    "    identified_estimand=estimand,\n",
    "    method_name='frontdoor.two_stage_regression'\n",
    ")\n",
    "\n",
    "estimate.value"
   ]
  },
  {
   "cell_type": "code",
   "execution_count": null,
   "metadata": {},
   "outputs": [],
   "source": []
  }
 ],
 "metadata": {
  "kernelspec": {
   "display_name": "causal",
   "language": "python",
   "name": "python3"
  },
  "language_info": {
   "codemirror_mode": {
    "name": "ipython",
    "version": 3
   },
   "file_extension": ".py",
   "mimetype": "text/x-python",
   "name": "python",
   "nbconvert_exporter": "python",
   "pygments_lexer": "ipython3",
   "version": "3.12.0"
  }
 },
 "nbformat": 4,
 "nbformat_minor": 2
}
