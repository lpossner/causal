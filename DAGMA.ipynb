{
 "cells": [
  {
   "cell_type": "code",
   "execution_count": null,
   "metadata": {},
   "outputs": [],
   "source": [
    "from dagma.linear import DagmaLinear\n",
    "from dagma.nonlinear import DagmaMLP, DagmaNonlinear\n",
    "\n",
    "from castle.common import GraphDAG\n",
    "from castle.metrics import MetricsDAG\n",
    "from castle.datasets import IIDSimulation, DAG"
   ]
  },
  {
   "cell_type": "code",
   "execution_count": null,
   "metadata": {},
   "outputs": [],
   "source": [
    "dag = DAG.scale_free(n_nodes=34, n_edges=40)\n",
    "data = IIDSimulation(W=dag, n=10000, method='linear', sem_type='logistic')\n",
    "\n",
    "model = DagmaLinear(loss_type='logistic')\n",
    "W_est = (model.fit(data.X, max_iter=1e6) > 0.5).astype(\"int32\")\n",
    "GraphDAG(W_est, data.B)\n",
    "\n",
    "metrics = MetricsDAG(W_est, data.B)\n",
    "print(metrics.metrics)"
   ]
  }
 ],
 "metadata": {
  "kernelspec": {
   "display_name": "Python 3",
   "language": "python",
   "name": "python3"
  },
  "language_info": {
   "codemirror_mode": {
    "name": "ipython",
    "version": 3
   },
   "file_extension": ".py",
   "mimetype": "text/x-python",
   "name": "python",
   "nbconvert_exporter": "python",
   "pygments_lexer": "ipython3",
   "version": "3.11.7"
  },
  "orig_nbformat": 4
 },
 "nbformat": 4,
 "nbformat_minor": 2
}
